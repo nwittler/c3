{
 "cells": [
  {
   "cell_type": "markdown",
   "id": "abaee0fb",
   "metadata": {},
   "source": [
    "# Model Learning using $C^3$"
   ]
  },
  {
   "cell_type": "markdown",
   "id": "ce190974",
   "metadata": {},
   "source": [
    "## Define a simple model\n",
    "\n",
    "Load a one qubit device model from `.cfg` and `.hjsons`"
   ]
  },
  {
   "cell_type": "markdown",
   "id": "c84b2346",
   "metadata": {},
   "source": [
    "\n",
    "## Run $C_1$ Optimal Control [Optional]"
   ]
  },
  {
   "cell_type": "markdown",
   "id": "9a951c77",
   "metadata": {},
   "source": [
    "## Run $C_2$ Device Calibration\n",
    "\n",
    "- Follow steps in `examples/Simulated_calibration.ipynb`\n",
    "- Store data from the calibration run in a reusable format\n",
    "\n",
    "The path to the dataset can be retrieved from opt.picklefilename"
   ]
  },
  {
   "cell_type": "markdown",
   "id": "74f2cf2d",
   "metadata": {},
   "source": [
    "## Run $C_3$ Model Characterisation\n",
    "\n",
    "- Load device model from configs\n",
    "- Read data from the dataset stored in previous step\n",
    "- Perform model learning with this data and model"
   ]
  },
  {
   "cell_type": "code",
   "execution_count": null,
   "id": "6e9da309",
   "metadata": {},
   "outputs": [],
   "source": [
    "import pickle\n",
    "from pprint import pprint"
   ]
  },
  {
   "cell_type": "code",
   "execution_count": null,
   "id": "a5de883e",
   "metadata": {},
   "outputs": [],
   "source": [
    "with open(\"/tmp/tmpsh77v1xv/c3logs/ORBIT_cal/2021_05_19_T_17_06_14/dataset.pickle\", \"rb\") as f:\n",
    "    objects = []\n",
    "    while True:\n",
    "        try:\n",
    "            objects.append(pickle.load(f))\n",
    "        except EOFError:\n",
    "            break"
   ]
  },
  {
   "cell_type": "markdown",
   "id": "5419063a",
   "metadata": {},
   "source": [
    "### What does the dataset from $C^2$ look like?"
   ]
  },
  {
   "cell_type": "code",
   "execution_count": null,
   "id": "fa40e632",
   "metadata": {},
   "outputs": [],
   "source": [
    "pprint(objects)"
   ]
  }
 ],
 "metadata": {
  "kernelspec": {
   "display_name": "Python 3",
   "language": "python",
   "name": "python3"
  },
  "language_info": {
   "codemirror_mode": {
    "name": "ipython",
    "version": 3
   },
   "file_extension": ".py",
   "mimetype": "text/x-python",
   "name": "python",
   "nbconvert_exporter": "python",
   "pygments_lexer": "ipython3",
   "version": "3.8.8"
  }
 },
 "nbformat": 4,
 "nbformat_minor": 5
}
